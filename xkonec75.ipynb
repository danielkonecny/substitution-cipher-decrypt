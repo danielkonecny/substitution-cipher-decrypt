{
 "cells": [
  {
   "cell_type": "markdown",
   "source": [
    "# Simple scripts to analyze and decrypt the cipher\n",
    "\n",
    "Author: Daniel Konecny (xkonec75)"
   ],
   "metadata": {
    "collapsed": false,
    "pycharm": {
     "name": "#%% md\n"
    }
   }
  },
  {
   "cell_type": "markdown",
   "source": [
    "## Load initial data"
   ],
   "metadata": {
    "collapsed": false,
    "pycharm": {
     "name": "#%% md\n"
    }
   }
  },
  {
   "cell_type": "code",
   "execution_count": 91,
   "outputs": [
    {
     "name": "stdout",
     "output_type": "stream",
     "text": [
      "['bp', 'gq', 'af', 'my', 'ay', 'ye', 'ui', 'xe', 'af', 'xk', 'hm', 'fq', 'vl', 'uq', 'gb', 'nb', 'xa', 'nm', 'mp', 'my', 'uc', 'hq', 'pl', 'yo', 'wc', 'km', 'qc', 'vl', 'gk', 'yb', 'ye', 'pb', 'uv', 'ag', 'cx', 'bg', 'bg', 'da', 'xz', 'wz', 'ce', 'xz', 'uc', 'xf', 'km', 'cp', 'ol', 'gm', 'am', 'cx', 'yt', 'ce', 'am', 'kb', 'ya', 'ri', 'ch', 'ex', 'xz', 'wz', 'ai', 'qn', 'zd', 'my', 'gl', 'nc', 'hy', 'pc', 'vn', 'km', 'ai', 'gc', 'ce', 'mk', 'kb', 'ai', 'ax', 'vh', 'zg', 'en', 'vl', 'bp', 'ya', 'ye', 'pb', 'eq', 'ir', 'ug', 'bp', 'ai', 'gs', 'af', 'my', 'hy', 'ay', 'dx', 'yl', 'qr', 'ae', 'wz', 'me', 'po', 'ry', 'zk', 'bp', 'io', 'nq', 'xe', 'gb', 'rq', 'ar', 'ay', 'xd', 'ai', 'ie', 'qe', 'mf', 'zv', 'bp', 'yo', 'me', 'yh', 'cp', 'zw', 'hg', 'iy', 'bp', 'kq', 'yq', 'ri', 'bp', 'pm', 'nc', 'vh', 'zw', 'bp', 'ru', 'ya', 'hn', 'cp', 'mg', 'xy', 're', 'ef', 'pc', 'vl', 'qr', 'ae', 'wz', 'fm', 'ra', 'me', 'eq', 'vl', 'ri', 'yh', 'hn', 'yr', 'dx', 'oh', 'zd', 'tm', 'ai', 'ak', 'qg', 'cx', 'xd', 'bp', 'aq', 'yi', 'ru', 'bp', 'aq', 'ck', 'ac', 'iy', 'bg', 'da', 'xd', 'ho', 'ye', 'si', 'am', 'pn', 'xe', 'qr', 'mh', 'px', 'ug', 'bp', 'fq', 'mp', 'ai', 'no', 'gb', 'ru', 'qc', 'yf', 'li', 'qx', 'ea', 'mk', 'mi', 'bp', 're', 'af', 'wz', 'xd', 'cn', 'rq', 'ur', 'cp', 'zg', 'xf', 'ka', 'ri', 'up', 'xq', 'ia', 'aq', 'fn', 'no', 'mi', 'ya', 'hc', 'cz', 'iy', 'yo', 'pq', 'ne', 'li', 'ch', 'cp', 'ad', 'hl', 'nm', 'by', 'cv', 'me', 'ya', 'qe', 'ym', 'rq', 'uz', 'pm', 'mt', 'yo', 'si', 'yh', 'pg', 'ai', 'ir', 'qd', 'bv', 'bg', 'da', 'ce', 'gv', 'ce', 'cp', 'kv', 'af', 'ru', 'yq', 'ri', 'cp', 'on', 'ad', 'cv', 'ro', 'ya', 'li', 'bp', 'ra', 'fq', 'pl', 'ig', 'dx', 'td', 'uf', 'cz', 'ig', 'yh', 'ep', 'md', 'py', 'yh', 'bp', 're', 'md', 'me', 'xd', 'hy', 'ip', 'mp', 'ur', 'dx', 'pl', 'ai', 'ug', 'py', 'qx', 'kb', 'ai', 'ug', 'vl', 'uh', 'uc', 'hq', 'pl', 'qc', 'ir', 'ad', 'zp', 'da', 'bh', 'ay', 'kl', 'km', 'ai', 'qn', 'zd', 'my', 'il', 'wb', 'ro', 'mg', 'vl', 'pm', 'bg', 'ea', 'wz', 'km', 'ai', 'no', 'eh', 'ar', 'pl', 'ex', 'no', 'qc', 'vl', 'rq', 'ag', 'hr', 'nm', 'yn', 'mk', 'bp', 'yq', 'rh', 'yh', 'gb', 'ed', 'oh', 'hn', 'si', 'hn', 'pm', 'ad', 'ei', 'aq', 'lk', 'ru', 'mp', 'ph', 'ro']\n"
     ]
    }
   ],
   "source": [
    "# We are working with digrams.\n",
    "n = 2\n",
    "\n",
    "with open('cipher.txt', 'r') as cipher_file:\n",
    "    ciphertext = cipher_file.readline()\n",
    "\n",
    "# Split cipher into n-grams.\n",
    "ciphertext = [ciphertext[i:i + n].lower() for i in range(0, len(ciphertext), n)]\n",
    "\n",
    "print(ciphertext)"
   ],
   "metadata": {
    "collapsed": false,
    "pycharm": {
     "name": "#%%\n"
    }
   }
  },
  {
   "cell_type": "code",
   "execution_count": 92,
   "outputs": [
    {
     "name": "stdout",
     "output_type": "stream",
     "text": [
      "['th', 'ew', 'ho', 'le', 'ne', 'ig', 'hb', 'or', 'ho', 'od', 'ab', 'ou', 'nd', 'sw', 'it', 'hl', 'oc', 'al', 'ta', 'le', 'sh', 'au', 'nt', 'ed', 'sp', 'ot', 'sa', 'nd', 'tw', 'il', 'ig', 'ht', 'su', 'pe', 'rs', 'ti', 'ti', 'on', 'sx', 'st', 'ar', 'sx', 'sh', 'ox', 'ot', 'an', 'dm', 'et', 'eo', 'rs', 'gl', 'ar', 'eo', 'ft', 'en', 'er', 'ac', 'ro', 'sx', 'st', 'he', 'va', 'lx', 'le', 'yt', 'ha', 'ni', 'na', 'ny', 'ot', 'he', 'rp', 'ar', 'to', 'ft', 'he', 'co', 'un', 'tr', 'ya', 'nd', 'th', 'en', 'ig', 'ht']\n"
     ]
    }
   ],
   "source": [
    "import re\n",
    "\n",
    "# We are working with digrams.\n",
    "n = 2\n",
    "\n",
    "with open('text.txt', 'r') as text_file:\n",
    "    plaintext = text_file.readline()\n",
    "\n",
    "# Delete everything that is not a letter.\n",
    "isalpha_pattern = re.compile('\\W+')\n",
    "plaintext = isalpha_pattern.sub('', plaintext).lower()\n",
    "\n",
    "# Replace all 'j's with 'i's.\n",
    "j_pattern = re.compile('j')\n",
    "plaintext = j_pattern.sub(\"i\", plaintext)\n",
    "\n",
    "# Whenever n-gram should contain two identical letters, insert 'x' between them.\n",
    "previous = ''\n",
    "indices = []\n",
    "for index, letter in enumerate(plaintext):\n",
    "    if letter == previous:\n",
    "        if (index + len(indices)) % n != 0:\n",
    "            indices.append(index + len(indices))\n",
    "    previous = letter\n",
    "for index in indices:\n",
    "    plaintext = plaintext[:index] + 'x' + plaintext[index:]\n",
    "\n",
    "# Place 'x's at the end to match the needed n-gram length.\n",
    "if len(plaintext) % n != 0:\n",
    "    plaintext += (n - len(plaintext) % n) * 'x'\n",
    "\n",
    "# Split text into n-grams.\n",
    "plaintext = [plaintext[i:i + n] for i in range(0, len(plaintext), n)]\n",
    "\n",
    "print(plaintext)"
   ],
   "metadata": {
    "collapsed": false,
    "pycharm": {
     "name": "#%%\n"
    }
   }
  },
  {
   "cell_type": "markdown",
   "source": [
    "## Test the occurrence of letters\n",
    "\n",
    "Analysis of the cipher to understand it."
   ],
   "metadata": {
    "collapsed": false,
    "pycharm": {
     "name": "#%% md\n"
    }
   }
  },
  {
   "cell_type": "code",
   "execution_count": 93,
   "outputs": [
    {
     "name": "stdout",
     "output_type": "stream",
     "text": [
      "No n-grams encoded into themself.\n",
      "Occurrences (letter: encoding)\n",
      "{'ab': {'hm': 1},\n",
      " 'ac': {'ch': 1},\n",
      " 'al': {'nm': 1},\n",
      " 'an': {'cp': 1},\n",
      " 'ar': {'ce': 3},\n",
      " 'au': {'hq': 1},\n",
      " 'co': {'ax': 1},\n",
      " 'dm': {'ol': 1},\n",
      " 'ed': {'yo': 1},\n",
      " 'en': {'ya': 2},\n",
      " 'eo': {'am': 2},\n",
      " 'er': {'ri': 1},\n",
      " 'et': {'gm': 1},\n",
      " 'ew': {'gq': 1},\n",
      " 'ft': {'kb': 2},\n",
      " 'gl': {'yt': 1},\n",
      " 'ha': {'nc': 1},\n",
      " 'hb': {'ui': 1},\n",
      " 'he': {'ai': 3},\n",
      " 'hl': {'nb': 1},\n",
      " 'ho': {'af': 2},\n",
      " 'ht': {'pb': 2},\n",
      " 'ig': {'ye': 3},\n",
      " 'il': {'yb': 1},\n",
      " 'it': {'gb': 1},\n",
      " 'le': {'my': 3},\n",
      " 'lx': {'zd': 1},\n",
      " 'na': {'pc': 1},\n",
      " 'nd': {'vl': 3},\n",
      " 'ne': {'ay': 1},\n",
      " 'ni': {'hy': 1},\n",
      " 'nt': {'pl': 1},\n",
      " 'ny': {'vn': 1},\n",
      " 'oc': {'xa': 1},\n",
      " 'od': {'xk': 1},\n",
      " 'on': {'da': 1},\n",
      " 'or': {'xe': 1},\n",
      " 'ot': {'km': 3},\n",
      " 'ou': {'fq': 1},\n",
      " 'ox': {'xf': 1},\n",
      " 'pe': {'ag': 1},\n",
      " 'ro': {'ex': 1},\n",
      " 'rp': {'gc': 1},\n",
      " 'rs': {'cx': 2},\n",
      " 'sa': {'qc': 1},\n",
      " 'sh': {'uc': 2},\n",
      " 'sp': {'wc': 1},\n",
      " 'st': {'wz': 2},\n",
      " 'su': {'uv': 1},\n",
      " 'sw': {'uq': 1},\n",
      " 'sx': {'xz': 3},\n",
      " 'ta': {'mp': 1},\n",
      " 'th': {'bp': 2},\n",
      " 'ti': {'bg': 2},\n",
      " 'to': {'mk': 1},\n",
      " 'tr': {'zg': 1},\n",
      " 'tw': {'gk': 1},\n",
      " 'un': {'vh': 1},\n",
      " 'va': {'qn': 1},\n",
      " 'ya': {'en': 1},\n",
      " 'yt': {'gl': 1}}\n"
     ]
    }
   ],
   "source": [
    "import pprint\n",
    "\n",
    "occurrences = {}\n",
    "\n",
    "# Count occurrences of n-grams.\n",
    "for cipher, plain in zip(ciphertext, plaintext):\n",
    "    if plain not in occurrences:\n",
    "        occurrences[plain] = {}\n",
    "    if cipher not in occurrences[plain]:\n",
    "        occurrences[plain][cipher] = 0\n",
    "    occurrences[plain][cipher] += 1\n",
    "\n",
    "# Check if any n-grams are encoded into themselves.\n",
    "encoded_into_themself = []\n",
    "for k, v in occurrences.items():\n",
    "    for t in v:\n",
    "        if k == t:\n",
    "            encoded_into_themself.append(k)\n",
    "if len(encoded_into_themself) > 0:\n",
    "    print(f\"N-grams encoded into themself: {encoded_into_themself}\")\n",
    "else:\n",
    "    print(\"No n-grams encoded into themself.\")\n",
    "\n",
    "print(\"Occurrences (letter: encoding)\")\n",
    "pprint.pprint(occurrences)"
   ],
   "metadata": {
    "collapsed": false,
    "pycharm": {
     "name": "#%%\n"
    }
   }
  },
  {
   "cell_type": "markdown",
   "source": [
    "## Decode from list of n-grams\n",
    "\n",
    "Although the digram list is not complete, this can still provide some information."
   ],
   "metadata": {
    "collapsed": false,
    "pycharm": {
     "name": "#%% md\n"
    }
   }
  },
  {
   "cell_type": "code",
   "execution_count": 101,
   "outputs": [
    {
     "name": "stdout",
     "output_type": "stream",
     "text": [
      "thewholeneighborhoodaboundswithlocaltaleshauntedspotsandtwilightsuperstitionsstarsshootandmeteorsglareofteneracrossthevalleythaninanyotherpartofthecountryandthenightEQIRUGthheGSholenineDXYLQRAEstMEPORYZKthIONQoritRQARneXDheIEQEMFZVthedMEYHanZWHGIYthKQYQerthPMhaunZWthRUenHNanMGXYREEFnandQRAEstFMRAMEEQnderYHHNYRDXOHlxTMheAKQGrsXDthAQYIRUthAQCKACIYtionXDHOigSIeoPNorQRMHPXUGthoutaheNOitRUsaYFLIQXEAtoMIthREhostXDCNRQURantroxKAerUPXQIAAQFNNOMIenHCCZIYedPQNELIacanADHLalBYCVMEenQEYMRQUZPMMTedSIYHPGheIRQDBVtionarGVaranKVhoRUYQeranONADCVROenLIthRAountIGDXTDUFCZIGYHEPMDPYYHthREMDMEXDniIPtaURDXntheUGPYQXftheUGndUHshauntsaIRADZPonBHneKLothevalleILWBROMGndPMtiEAstotheNOEHARntroNOsandRQpeHRalYNtothYQRHYHitEDOHHNSIHNPMADEIAQLKRUtaPHRO\n"
     ]
    }
   ],
   "source": [
    "# Delete 'x's at the end used as padding.\n",
    "def delete_xs_at_the_end(text):\n",
    "    count = 0\n",
    "    for character in text[::-1]:\n",
    "        if character == 'x':\n",
    "            count += 1\n",
    "        else:\n",
    "            break\n",
    "    if count > 0:\n",
    "        text = text[:-count]\n",
    "    return text\n",
    "\n",
    "# Delete additional 'x's added to digrams.\n",
    "def delete_xs_from_doubled(text):\n",
    "    idxs = []\n",
    "    for idx, character in enumerate(text):\n",
    "        if character == 'x' and text[idx - 1] == text[idx + 1]:\n",
    "            idxs.append(idx)\n",
    "    for idx in idxs[::-1]:\n",
    "        text = text[:idx] + text[idx + 1:]\n",
    "    return text\n",
    "\n",
    "# Construct list of n-grams for decoding.\n",
    "decodings = {}\n",
    "for cipher, plain in zip(ciphertext, plaintext):\n",
    "    decodings[cipher] = plain\n",
    "\n",
    "# Replace known digrams.\n",
    "decoded = \"\"\n",
    "for digram in ciphertext:\n",
    "    if digram in decodings:\n",
    "        decoded += decodings[digram]\n",
    "    else:\n",
    "        decoded += digram.upper()\n",
    "\n",
    "decoded = delete_xs_at_the_end(decoded)\n",
    "decoded = delete_xs_from_doubled(decoded)\n",
    "print(decoded)"
   ],
   "metadata": {
    "collapsed": false,
    "pycharm": {
     "name": "#%%\n"
    }
   }
  },
  {
   "cell_type": "markdown",
   "source": [
    "## Helpful information from digram pairs\n",
    "\n",
    "Additional information to these pairs can be found [here](https://crypto.stackexchange.com/a/35748)."
   ],
   "metadata": {
    "collapsed": false,
    "pycharm": {
     "name": "#%% md\n"
    }
   }
  },
  {
   "cell_type": "code",
   "execution_count": 102,
   "outputs": [
    {
     "name": "stdout",
     "output_type": "stream",
     "text": [
      "Pairs of form AB => CD and CD => AB:\n",
      "- gl <=> yt\n",
      "- en <=> ya\n",
      "- yt <=> gl\n",
      "- ya <=> en\n",
      "Pairs of form AB => BC.\n",
      "- su => uv\n",
      "- sx => xz\n",
      "- ox => xf\n",
      "- er => ri\n",
      "- ac => ch\n",
      "Pairs of form AB => CD and CD => EA.\n",
      "Pairs of form AB => CD and CD => BE.\n",
      "Pairs of form AB => CD and AD => CE.\n",
      "Remaining pairs:\n",
      "- th => bp\n",
      "- ew => gq\n",
      "- ho => af\n",
      "- le => my\n",
      "- ne => ay\n",
      "- ig => ye\n",
      "- hb => ui\n",
      "- or => xe\n",
      "- od => xk\n",
      "- ab => hm\n",
      "- ou => fq\n",
      "- nd => vl\n",
      "- sw => uq\n",
      "- it => gb\n",
      "- hl => nb\n",
      "- oc => xa\n",
      "- al => nm\n",
      "- ta => mp\n",
      "- sh => uc\n",
      "- au => hq\n",
      "- nt => pl\n",
      "- ed => yo\n",
      "- sp => wc\n",
      "- ot => km\n",
      "- sa => qc\n",
      "- tw => gk\n",
      "- il => yb\n",
      "- ht => pb\n",
      "- pe => ag\n",
      "- rs => cx\n",
      "- ti => bg\n",
      "- on => da\n",
      "- st => wz\n",
      "- ar => ce\n",
      "- an => cp\n",
      "- dm => ol\n",
      "- et => gm\n",
      "- eo => am\n",
      "- ft => kb\n",
      "- ro => ex\n",
      "- he => ai\n",
      "- va => qn\n",
      "- lx => zd\n",
      "- ha => nc\n",
      "- ni => hy\n",
      "- na => pc\n",
      "- ny => vn\n",
      "- rp => gc\n",
      "- to => mk\n",
      "- co => ax\n",
      "- un => vh\n",
      "- tr => zg\n"
     ]
    }
   ],
   "source": [
    "encodings = {}\n",
    "for plain, cipher in zip(plaintext, ciphertext):\n",
    "    encodings[plain] = cipher\n",
    "\n",
    "used_plains = []\n",
    "\n",
    "print(\"Pairs of form AB => CD and CD => AB:\")\n",
    "for plain, cipher in encodings.items():\n",
    "    if cipher in encodings and encodings[cipher] == plain:\n",
    "        print(f\"- {plain} <=> {cipher}\")\n",
    "        used_plains.append(plain)\n",
    "\n",
    "print(\"Pairs of form AB => BC.\")\n",
    "for plain, cipher in encodings.items():\n",
    "    if plain[1] == cipher[0]:\n",
    "        print(f\"- {plain} => {cipher}\")\n",
    "        used_plains.append(plain)\n",
    "\n",
    "print(\"Pairs of form AB => CD and CD => EA.\")\n",
    "for plain, cipher in encodings.items():\n",
    "    if cipher in encodings and encodings[cipher][1] == plain[0]:\n",
    "        print(f\"- {plain} => {cipher} and {cipher} => {encodings[cipher]}\")\n",
    "        used_plains.append(plain)\n",
    "\n",
    "print(\"Pairs of form AB => CD and CD => BE.\")\n",
    "for plain, cipher in encodings.items():\n",
    "    if cipher in encodings and encodings[cipher][0] == plain[1]:\n",
    "        print(f\"- {plain} => {cipher} and {cipher} => {encodings[cipher]}\")\n",
    "        used_plains.append(plain)\n",
    "\n",
    "print(\"Pairs of form AB => CD and AD => CE.\")\n",
    "for plain, cipher in encodings.items():\n",
    "    if plain[0] + cipher[1] in encodings and encodings[plain[0] + cipher[1]][0] == cipher[0]:\n",
    "        print(f\"- {plain} => {cipher} and {plain[0] + cipher[1]} => {encodings[plain[0] + cipher[1]]}\")\n",
    "        used_plains.append(plain)\n",
    "\n",
    "print(\"Remaining pairs:\")\n",
    "for plain, cipher in encodings.items():\n",
    "    if plain not in used_plains:\n",
    "        print(f\"- {plain} => {cipher}\")"
   ],
   "metadata": {
    "collapsed": false,
    "pycharm": {
     "name": "#%%\n"
    }
   }
  },
  {
   "cell_type": "code",
   "execution_count": 103,
   "outputs": [],
   "source": [
    "# Set key as was determined by hand with help of previous code.\n",
    "key = [\n",
    "    ['g', 'e', 'r', 'i', 'y'],\n",
    "    ['p', 'a', 'c', 'h', 'n'],\n",
    "    ['w', 'q', 's', 'u', 'v'],\n",
    "    ['k', 'o', 'x', 'f', 'd'],\n",
    "    ['t', 'm', 'z', 'b', 'l']\n",
    "]\n",
    "\n",
    "def decode_digram(encoded_digram):\n",
    "    import numpy as np\n",
    "\n",
    "    coordinates1 = np.squeeze(np.where(np.array(key) == encoded_digram[0]))\n",
    "    coordinates2 = np.squeeze(np.where(np.array(key) == encoded_digram[1]))\n",
    "\n",
    "    if coordinates1[0] == coordinates2[0]:\n",
    "        decoded_digram = key[coordinates1[0]][(coordinates1[1] - 1) % 5] + key[coordinates2[0]][(coordinates2[1] - 1) % 5]\n",
    "    elif coordinates1[1] == coordinates2[1]:\n",
    "        decoded_digram = key[(coordinates1[0] - 1) % 5][coordinates1[1]] + key[(coordinates2[0] - 1) % 5][coordinates2[1]]\n",
    "    else:\n",
    "        decoded_digram = key[coordinates1[0]][coordinates2[1]] + key[coordinates2[0]][coordinates1[1]]\n",
    "\n",
    "    return decoded_digram"
   ],
   "metadata": {
    "collapsed": false,
    "pycharm": {
     "name": "#%%\n"
    }
   }
  },
  {
   "cell_type": "code",
   "execution_count": 105,
   "outputs": [
    {
     "name": "stdout",
     "output_type": "stream",
     "text": [
      "thewholeneighborhoodaboundswithlocaltaleshauntedspotsandtwilightsuperstitionsstarsshootandmeteorsglareofteneracrossthevalleythaninanyotherpartofthecountryandthenightmarewithherwholeninefoldseemstomakeitthefavoritesceneofhergambolsthedominantspirithoweverthathauntsthisenchantedregionandseemstobecommanderinchiefofallthepowersoftheairistheapparitionofafigureonhorsebackwithoutaheaditissaidbysometobetheghostofahessiantrooperwhoseheadhadbeencarriedawaybyacannonballinsomenamelessbattleduringtherevolutionarywarandwhoiseverandanonseenbythecountryfolkhurryingalonginthegloomofnightasifonthewingsofthewindhishauntsarenotconfinedtothevalleybutextendattimestotheadiacentroadsandespeciallytothevicinityofachurchatnogreatdistance\n",
      "\n"
     ]
    }
   ],
   "source": [
    "# Decode ciphertext digram by digram.\n",
    "decoded = ''\n",
    "for digram in ciphertext:\n",
    "    decoded += decode_digram(digram)\n",
    "\n",
    "decoded = delete_xs_at_the_end(decoded)\n",
    "decoded = delete_xs_from_doubled(decoded)\n",
    "print(f\"{decoded}\\n\")"
   ],
   "metadata": {
    "collapsed": false,
    "pycharm": {
     "name": "#%%\n"
    }
   }
  }
 ],
 "metadata": {
  "kernelspec": {
   "display_name": "Python 3",
   "language": "python",
   "name": "python3"
  },
  "language_info": {
   "codemirror_mode": {
    "name": "ipython",
    "version": 2
   },
   "file_extension": ".py",
   "mimetype": "text/x-python",
   "name": "python",
   "nbconvert_exporter": "python",
   "pygments_lexer": "ipython2",
   "version": "2.7.6"
  }
 },
 "nbformat": 4,
 "nbformat_minor": 0
}