{
 "cells": [
  {
   "cell_type": "markdown",
   "source": [
    "# Simple scripts to analyze and decrypt the cipher"
   ],
   "metadata": {
    "collapsed": false,
    "pycharm": {
     "name": "#%% md\n"
    }
   }
  },
  {
   "cell_type": "markdown",
   "source": [
    "## Load initial data"
   ],
   "metadata": {
    "collapsed": false,
    "pycharm": {
     "name": "#%% md\n"
    }
   }
  },
  {
   "cell_type": "code",
   "execution_count": 28,
   "outputs": [],
   "source": [
    "import pprint\n",
    "\n",
    "with open('cipher.txt', 'r') as cipher_file:\n",
    "    cipher = cipher_file.readline()\n",
    "\n",
    "with open('text.txt', 'r') as text_file:\n",
    "    text = text_file.readline()\n",
    "\n",
    "separated_cipher = [x.lower() for x in cipher]\n",
    "separated_text = [x.lower() for x in text if x.isalpha()]"
   ],
   "metadata": {
    "collapsed": false,
    "pycharm": {
     "name": "#%%\n"
    }
   }
  },
  {
   "cell_type": "markdown",
   "source": [
    "## Test the occurrence of letters"
   ],
   "metadata": {
    "collapsed": false,
    "pycharm": {
     "name": "#%% md\n"
    }
   }
  },
  {
   "cell_type": "code",
   "execution_count": 34,
   "outputs": [
    {
     "name": "stdout",
     "output_type": "stream",
     "text": [
      "Letter 'a' encrypted into itself.\n",
      "\n",
      "Occurrences:\n",
      "{'a': {'a': 1, 'c': 1, 'h': 2, 'l': 1, 'n': 3, 'p': 1, 'r': 2, 's': 1, 't': 1},\n",
      " 'b': {'e': 1, 'g': 1, 'l': 2, 't': 5, 'u': 1},\n",
      " 'c': {'a': 1,\n",
      "       'f': 1,\n",
      "       'h': 2,\n",
      "       'l': 1,\n",
      "       'm': 1,\n",
      "       'n': 1,\n",
      "       'o': 3,\n",
      "       'p': 1,\n",
      "       'r': 2,\n",
      "       't': 1},\n",
      " 'd': {'h': 1, 'o': 1},\n",
      " 'e': {'f': 1, 'g': 2, 'h': 2, 'r': 1, 's': 2},\n",
      " 'f': {'a': 1, 'o': 3},\n",
      " 'g': {'e': 2, 'i': 4, 'o': 2, 't': 2},\n",
      " 'h': {'a': 2, 'n': 1, 's': 1, 'y': 1},\n",
      " 'i': {'b': 1, 'l': 1, 'r': 1, 't': 2},\n",
      " 'k': {'c': 1, 'd': 1, 'n': 2, 'o': 2, 'p': 1, 'w': 1},\n",
      " 'l': {'d': 2, 'e': 1, 'i': 1, 'n': 1, 't': 1},\n",
      " 'm': {'a': 2, 'b': 1, 'd': 1, 'e': 2, 'g': 1, 'l': 3, 'r': 1, 't': 2},\n",
      " 'n': {'a': 2, 'e': 1, 'h': 1, 'r': 1, 'y': 1},\n",
      " 'o': {'d': 1, 't': 1},\n",
      " 'p': {'a': 1, 'e': 1, 'h': 3, 'n': 1, 't': 1},\n",
      " 'q': {'e': 1, 's': 1, 'u': 2, 'w': 2},\n",
      " 'r': {'c': 1},\n",
      " 't': {'e': 1},\n",
      " 'u': {'h': 1, 'o': 1, 's': 3},\n",
      " 'v': {'a': 1, 'e': 1, 'n': 3, 'u': 1},\n",
      " 'w': {'s': 1, 't': 1, 'v': 1},\n",
      " 'x': {'a': 1, 'h': 1, 'o': 3, 's': 3, 't': 2, 'y': 1},\n",
      " 'y': {'e': 4, 'i': 3, 'n': 1, 'o': 1, 'r': 2, 't': 1},\n",
      " 'z': {'a': 2, 'd': 1, 'e': 1, 'h': 1, 's': 1, 't': 1}}\n"
     ]
    }
   ],
   "source": [
    "occurrences = {}\n",
    "\n",
    "for c, t in zip(separated_cipher, separated_text):\n",
    "    if c not in occurrences:\n",
    "        occurrences[c] = {}\n",
    "\n",
    "    if t not in occurrences[c]:\n",
    "        occurrences[c][t] = 0\n",
    "\n",
    "    occurrences[c][t] += 1\n",
    "\n",
    "for k, v in occurrences.items():\n",
    "    for t in v:\n",
    "        if k == t:\n",
    "            print(f\"Letter '{k}' encrypted into itself.\")\n",
    "\n",
    "print(\"\\nOccurrences:\")\n",
    "pprint.pprint(occurrences)"
   ],
   "metadata": {
    "collapsed": false,
    "pycharm": {
     "name": "#%%\n"
    }
   }
  }
 ],
 "metadata": {
  "kernelspec": {
   "display_name": "Python 3",
   "language": "python",
   "name": "python3"
  },
  "language_info": {
   "codemirror_mode": {
    "name": "ipython",
    "version": 2
   },
   "file_extension": ".py",
   "mimetype": "text/x-python",
   "name": "python",
   "nbconvert_exporter": "python",
   "pygments_lexer": "ipython2",
   "version": "2.7.6"
  }
 },
 "nbformat": 4,
 "nbformat_minor": 0
}